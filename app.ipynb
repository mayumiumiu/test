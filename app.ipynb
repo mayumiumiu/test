{
 "cells": [
  {
   "cell_type": "code",
   "execution_count": 60,
   "metadata": {},
   "outputs": [],
   "source": [
    "data = {\n",
    "    '研究目的': [\n",
    "        'Commercial batch\\n商业化批次', \n",
    "        'Tris HCl change\\n盐酸三羟甲基氨基甲烷变更', \n",
    "        'DS Suite 2 Line 2 PV batches\\n新增原液车间2原液2号生产线PV批次',\n",
    "        'Sodium acetate trihydrate & L-glutamic acid supplier change\\n醋酸钠三水合物和谷氨酰胺变更',\n",
    "        'WCB5 Cell Bank validation\\n新细胞库WCB5 验证批',\n",
    "        'DS Suite 2 Line 1 PV batches\\n新增原液车间2原液1号生产线PV批次',\n",
    "        'Commercial batch\\n商业化批次',\n",
    "        'DS Suite 2 Line 2 PV batches\\n新增原液车间2原液2号生产线PV批次',\n",
    "        'On-going stability study of 2022\\n2022年持续稳定性研究',\n",
    "        'Schott vial PV batch\\n肖特西林瓶变更PV批次',\n",
    "        'DP filling batch size enlarge\\nDP扩批',\n",
    "        'DS Suite 2 Line 1 PV batches\\n新增原液车间2原液1号生产线PV批次',\n",
    "        \n",
    "    ],\n",
    "    'Batch No.\\n批号': [\n",
    "        '1000002164,1000002165,1000002169',\n",
    "        '1000004187', \n",
    "        '1000004606,1000004607,1000004608,1000004609,1000004611,1000007683',\n",
    "        '1000009585',\n",
    "        '1000010490',\n",
    "        '1000013150,1000013152,1000013154,1000013156,1000013158,1000013160',\n",
    "        '1000002930,1000002931,1000002932',\n",
    "        '1000006705,1000006706,1000006707,1000006708',\n",
    "        'G202201001',\n",
    "        '1000007310,1000007311,1000007312',\n",
    "        '1000010494,1000010495,1000010496',\n",
    "        '1000014839,1000014840,1000014841,1000014842'\n",
    "        \n",
    "        \n",
    "    ],\n",
    "    'type': [\n",
    "        'BDS stability study\\n原液稳定性研究目的', \n",
    "        'BDS stability study\\n原液稳定性研究目的', \n",
    "        'BDS stability study\\n原液稳定性研究目的',\n",
    "        'BDS stability study\\n原液稳定性研究目的',\n",
    "        'BDS stability study\\n原液稳定性研究目的',\n",
    "        'BDS stability study\\n原液稳定性研究目的',\n",
    "        'DP stability study\\n成品稳定性研究目的',\n",
    "        'DP stability study\\n成品稳定性研究目的',\n",
    "        'DP stability study\\n成品稳定性研究目的',\n",
    "        'DP stability study\\n成品稳定性研究目的',\n",
    "        'DP stability study\\n成品稳定性研究目的',\n",
    "        'DP stability study\\n成品稳定性研究目的',\n",
    "        # ... more items\n",
    "    ]\n",
    "}\n",
    "df = pd.DataFrame(data)"
   ]
  },
  {
   "cell_type": "code",
   "execution_count": 79,
   "metadata": {},
   "outputs": [
    {
     "data": {
      "application/vnd.jupyter.widget-view+json": {
       "model_id": "1348d201b4a84bce96e7bc6453176109",
       "version_major": 2,
       "version_minor": 0
      },
      "text/plain": [
       "FileUpload(value={}, accept='.xlsx', description='Upload')"
      ]
     },
     "metadata": {},
     "output_type": "display_data"
    },
    {
     "data": {
      "application/vnd.jupyter.widget-view+json": {
       "model_id": "aeda5e687f8c4767b23201d9e402affe",
       "version_major": 2,
       "version_minor": 0
      },
      "text/plain": [
       "Button(description='Genertae', style=ButtonStyle())"
      ]
     },
     "metadata": {},
     "output_type": "display_data"
    },
    {
     "data": {
      "application/vnd.jupyter.widget-view+json": {
       "model_id": "cd570b3ef20c44309d6e533cf2b866dc",
       "version_major": 2,
       "version_minor": 0
      },
      "text/plain": [
       "Output()"
      ]
     },
     "metadata": {},
     "output_type": "display_data"
    },
    {
     "data": {
      "application/vnd.jupyter.widget-view+json": {
       "model_id": "0315abcdcd08408c86bcaf4b8aad3d96",
       "version_major": 2,
       "version_minor": 0
      },
      "text/plain": [
       "Button(description='Add Row', style=ButtonStyle())"
      ]
     },
     "metadata": {},
     "output_type": "display_data"
    },
    {
     "data": {
      "application/vnd.jupyter.widget-view+json": {
       "model_id": "18f7432c940b4c0a93df54d22109335a",
       "version_major": 2,
       "version_minor": 0
      },
      "text/plain": [
       "Button(description='Delete Row', style=ButtonStyle())"
      ]
     },
     "metadata": {},
     "output_type": "display_data"
    },
    {
     "data": {
      "application/vnd.jupyter.widget-view+json": {
       "model_id": "bcc7cf59369f45dc9a9a088013955295",
       "version_major": 2,
       "version_minor": 0
      },
      "text/plain": [
       "Button(description='Save', style=ButtonStyle())"
      ]
     },
     "metadata": {},
     "output_type": "display_data"
    },
    {
     "data": {
      "application/vnd.jupyter.widget-view+json": {
       "model_id": "f97c7d9eae304828bcb1e3af9427e96d",
       "version_major": 2,
       "version_minor": 0
      },
      "text/plain": [
       "VBox(children=(Label(value='Upload Excel file:'), FileUpload(value={}, accept='.xlsx', description='Upload')),…"
      ]
     },
     "metadata": {},
     "output_type": "display_data"
    },
    {
     "data": {
      "application/vnd.jupyter.widget-view+json": {
       "model_id": "3fa08331b9e24a4a80904710b819f773",
       "version_major": 2,
       "version_minor": 0
      },
      "text/plain": [
       "HBox(children=(VBox(children=(Button(description='Add Row', style=ButtonStyle()),), layout=Layout(margin='0 0 …"
      ]
     },
     "metadata": {},
     "output_type": "display_data"
    },
    {
     "data": {
      "application/vnd.jupyter.widget-view+json": {
       "model_id": "cd570b3ef20c44309d6e533cf2b866dc",
       "version_major": 2,
       "version_minor": 0
      },
      "text/plain": [
       "Output()"
      ]
     },
     "metadata": {},
     "output_type": "display_data"
    }
   ],
   "source": [
    "import ipywidgets as widgets\n",
    "from IPython.display import display, clear_output\n",
    "import pandas as pd\n",
    "# Sample DataFrame setup\n",
    "# Upload widget for Excel files\n",
    "uploader = widgets.FileUpload(accept='.xlsx', multiple=False)\n",
    "generate_report_button = widgets.Button(description=\"Generate Report\")\n",
    "# Function to capture changes from widgets directly into the DataFrame\n",
    "def on_text_change(change, row, col):\n",
    "                                df.at[row, col] = change.new\n",
    "def create_interactive_table(df):\n",
    "   output = widgets.Output()\n",
    "   def redraw_table():\n",
    "       with output:\n",
    "           clear_output(wait=True)\n",
    "           for i in df.index:\n",
    "               for col in df.columns:\n",
    "                   text_widget = widgets.Text(value=str(df.at[i, col]))\n",
    "                   text_widget.observe(lambda change, row=i, col=col: on_text_change(change, row, col), names='value')\n",
    "                   display(text_widget)\n",
    "   def add_row(b):\n",
    "       # Append an empty row and redraw\n",
    "       df.loc[len(df)] = ['' for _ in range(len(df.columns))]\n",
    "       redraw_table()\n",
    "   def delete_row(b):\n",
    "       if len(df) > 0:\n",
    "           df.drop(df.tail(1).index, inplace=True)\n",
    "           redraw_table()\n",
    "   def save_df(b):\n",
    "       # Assuming df is already up-to-date with the UI\n",
    "       print(\"DataFrame saved. Implement further saving logic here.\")\n",
    "\n",
    "   def generate_report(b):\n",
    "        global df\n",
    "        doc = Document()\n",
    "\n",
    "        # Handle the uploaded Excel file\n",
    "        if uploader.value:\n",
    "            uploaded_filename = next(iter(uploader.value))\n",
    "            uploaded_content = uploader.value[uploaded_filename]['content']\n",
    "            uploaded_df = pd.read_excel(io.BytesIO(uploaded_content))\n",
    "            # Add uploaded Excel data to the Word document\n",
    "            if not uploaded_df.empty:\n",
    "                doc.add_paragraph(\"Uploaded Excel Data:\")\n",
    "                table = doc.add_table(rows=1, cols=len(uploaded_df.columns))\n",
    "                for i, column in enumerate(uploaded_df.columns):\n",
    "                    table.cell(0, i).text = str(column)\n",
    "                for i, row in uploaded_df.iterrows():\n",
    "                    row_cells = table.add_row().cells\n",
    "                    for j, cell in enumerate(row):\n",
    "                        row_cells[j].text = str(cell)\n",
    "                doc.add_paragraph(\"\")  # Add a space between tables\n",
    "\n",
    "        # Add interactive table data to the Word document\n",
    "        if not df.empty:\n",
    "            doc.add_paragraph(\"Interactive Table Data:\")\n",
    "            table = doc.add_table(rows=1, cols=len(df.columns))\n",
    "            for i, column in enumerate(df.columns):\n",
    "                table.cell(0, i).text = str(column)\n",
    "            for i, row in df.iterrows():\n",
    "                row_cells = table.add_row().cells\n",
    "                for j, cell in enumerate(row):\n",
    "                    row_cells[j].text = str(cell)\n",
    "\n",
    "        doc.save('report.docx')\n",
    "        print(\"Report generated successfully.\")\n",
    "\n",
    "\n",
    "   add_row_button = widgets.Button(description=\"Add Row\")\n",
    "   add_row_button.on_click(add_row)\n",
    "   delete_row_button = widgets.Button(description=\"Delete Row\")\n",
    "   delete_row_button.on_click(delete_row)\n",
    "   save_button = widgets.Button(description=\"Save\")\n",
    "   save_button.on_click(save_df)\n",
    "   generate_report_button= widgets.Button(description=\"Genertae\")\n",
    "   generate_report_button.on_click(generate_report)\n",
    "   display(uploader,generate_report_button,output, add_row_button, delete_row_button, save_button)\n",
    " # Organize widgets into a more appealing layout\n",
    "   layout = widgets.Layout(margin='0 0 5px 0')  # Bottom margin\n",
    "   button_layout = widgets.Layout(width='auto', flex='1 1 auto', margin='0 10px 0 0')  # Auto-width, right margin\n",
    "\n",
    "   uploader_box = widgets.VBox([widgets.Label('Upload Excel file:'), uploader], layout=layout)\n",
    "   generate_report_button_box = widgets.VBox([generate_report_button], layout=layout)\n",
    "   add_row_button_box = widgets.VBox([add_row_button], layout=layout)\n",
    "   delete_row_button_box = widgets.VBox([delete_row_button], layout=layout)\n",
    "   save_button_box = widgets.VBox([save_button], layout=layout)\n",
    "\n",
    "   buttons_row = widgets.HBox([add_row_button_box, delete_row_button_box, save_button_box, generate_report_button_box], layout=layout)\n",
    "\n",
    "   display(uploader_box, buttons_row, output)\n",
    "   redraw_table()\n",
    "create_interactive_table(df)"
   ]
  },
  {
   "cell_type": "code",
   "execution_count": 81,
   "metadata": {
    "scrolled": false
   },
   "outputs": [
    {
     "data": {
      "application/vnd.jupyter.widget-view+json": {
       "model_id": "81cabd20aa184614848ff765f508fb09",
       "version_major": 2,
       "version_minor": 0
      },
      "text/plain": [
       "VBox(children=(Label(value='Upload Excel file:'), FileUpload(value={}, accept='.xlsx', description='Upload')))"
      ]
     },
     "metadata": {},
     "output_type": "display_data"
    },
    {
     "data": {
      "application/vnd.jupyter.widget-view+json": {
       "model_id": "4a74540a286c4a809c7a898241b35e39",
       "version_major": 2,
       "version_minor": 0
      },
      "text/plain": [
       "HBox(children=(Button(description='Add Row', style=ButtonStyle()), Button(description='Delete Row', style=Butt…"
      ]
     },
     "metadata": {},
     "output_type": "display_data"
    },
    {
     "data": {
      "application/vnd.jupyter.widget-view+json": {
       "model_id": "95e5bdb0348d44aeb3bbf23362b55b63",
       "version_major": 2,
       "version_minor": 0
      },
      "text/plain": [
       "Output()"
      ]
     },
     "metadata": {},
     "output_type": "display_data"
    }
   ],
   "source": [
    "import io\n",
    "import pandas as pd\n",
    "from docx import Document\n",
    "import ipywidgets as widgets\n",
    "from IPython.display import display, clear_output\n",
    "\n",
    "\n",
    "# Upload widget for Excel files\n",
    "uploader = widgets.FileUpload(accept='.xlsx', multiple=False)\n",
    "\n",
    "# Function to capture changes from widgets directly into the DataFrame\n",
    "def on_text_change(change, row, col):\n",
    "    df.at[row, col] = change.new\n",
    "\n",
    "def create_interactive_table(df):\n",
    "    output = widgets.Output()\n",
    "    \n",
    "    def redraw_table():\n",
    "        with output:\n",
    "            clear_output(wait=True)\n",
    "            for i in df.index:\n",
    "                for col in df.columns:\n",
    "                    text_widget = widgets.Text(value=str(df.at[i, col]), description=col)\n",
    "                    text_widget.observe(lambda change, row=i, col=col: on_text_change(change, row, col), names='value')\n",
    "                    display(text_widget)\n",
    "    \n",
    "    def add_row(b):\n",
    "        df.loc[len(df)] = ['' for _ in range(len(df.columns))]\n",
    "        redraw_table()\n",
    "    \n",
    "    def delete_row(b):\n",
    "        if len(df) > 0:\n",
    "            df.drop(df.tail(1).index, inplace=True)\n",
    "            redraw_table()\n",
    "\n",
    "    def generate_report(b):\n",
    "        global df\n",
    "        doc = Document()\n",
    "        \n",
    "        # Handle the uploaded Excel file\n",
    "        if uploader.value:\n",
    "            uploaded_filename = next(iter(uploader.value))\n",
    "            uploaded_content = uploader.value[uploaded_filename]['content']\n",
    "            uploaded_df = pd.read_excel(io.BytesIO(uploaded_content))\n",
    "            if not uploaded_df.empty:\n",
    "                doc.add_paragraph(\"Uploaded Excel Data:\")\n",
    "                table = doc.add_table(rows=1, cols=len(uploaded_df.columns))\n",
    "                for i, column in enumerate(uploaded_df.columns):\n",
    "                    table.cell(0, i).text = str(column)\n",
    "                for i, row in uploaded_df.iterrows():\n",
    "                    row_cells = table.add_row().cells\n",
    "                    for j, cell in enumerate(row):\n",
    "                        row_cells[j].text = str(cell)\n",
    "                doc.add_paragraph(\"\")  # Add a space between tables\n",
    "        \n",
    "        # Add interactive table data to the Word document\n",
    "        if not df.empty:\n",
    "            doc.add_paragraph(\"Interactive Table Data:\")\n",
    "            table = doc.add_table(rows=1, cols=len(df.columns))\n",
    "            for i, column in enumerate(df.columns):\n",
    "                table.cell(0, i).text = str(column)\n",
    "            for i, row in df.iterrows():\n",
    "                row_cells = table.add_row().cells\n",
    "                for j, cell in enumerate(row):\n",
    "                    row_cells[j].text = str(cell)\n",
    "        \n",
    "        doc.save('report.docx')\n",
    "        print(\"Report generated successfully.\")\n",
    "    \n",
    "    add_row_button = widgets.Button(description=\"Add Row\")\n",
    "    add_row_button.on_click(add_row)\n",
    "    delete_row_button = widgets.Button(description=\"Delete Row\")\n",
    "    delete_row_button.on_click(delete_row)\n",
    "    save_button = widgets.Button(description=\"Save\")\n",
    "    save_button.on_click(generate_report)  # Assuming you meant to save the report here\n",
    "    generate_report_button = widgets.Button(description=\"Generate Report\")\n",
    "    generate_report_button.on_click(generate_report)\n",
    "    \n",
    "    uploader_box = widgets.VBox([widgets.Label('Upload Excel file:'), uploader])\n",
    "    buttons_box = widgets.HBox([add_row_button, delete_row_button, save_button, generate_report_button])\n",
    "    \n",
    "    display(uploader_box, buttons_box, output)\n",
    "    redraw_table()\n",
    "\n",
    "create_interactive_table(df)\n"
   ]
  },
  {
   "cell_type": "code",
   "execution_count": 85,
   "metadata": {},
   "outputs": [
    {
     "ename": "ModuleNotFoundError",
     "evalue": "No module named 'voila'",
     "output_type": "error",
     "traceback": [
      "\u001b[1;31m---------------------------------------------------------------------------\u001b[0m",
      "\u001b[1;31mModuleNotFoundError\u001b[0m                       Traceback (most recent call last)",
      "\u001b[1;32m<ipython-input-85-3367ec01bc21>\u001b[0m in \u001b[0;36m<module>\u001b[1;34m\u001b[0m\n\u001b[1;32m----> 1\u001b[1;33m \u001b[1;32mimport\u001b[0m \u001b[0mvoila\u001b[0m\u001b[1;33m\u001b[0m\u001b[1;33m\u001b[0m\u001b[0m\n\u001b[0m",
      "\u001b[1;31mModuleNotFoundError\u001b[0m: No module named 'voila'"
     ]
    }
   ],
   "source": [
    "import voila"
   ]
  },
  {
   "cell_type": "code",
   "execution_count": 84,
   "metadata": {},
   "outputs": [
    {
     "ename": "SyntaxError",
     "evalue": "invalid syntax (<ipython-input-84-b9f8528b5b4b>, line 1)",
     "output_type": "error",
     "traceback": [
      "\u001b[1;36m  File \u001b[1;32m\"<ipython-input-84-b9f8528b5b4b>\"\u001b[1;36m, line \u001b[1;32m1\u001b[0m\n\u001b[1;33m    voila app.ipynb\u001b[0m\n\u001b[1;37m            ^\u001b[0m\n\u001b[1;31mSyntaxError\u001b[0m\u001b[1;31m:\u001b[0m invalid syntax\n"
     ]
    }
   ],
   "source": [
    "voila app.ipynb"
   ]
  },
  {
   "cell_type": "code",
   "execution_count": null,
   "metadata": {},
   "outputs": [],
   "source": []
  }
 ],
 "metadata": {
  "kernelspec": {
   "display_name": "Python 3",
   "language": "python",
   "name": "python3"
  },
  "language_info": {
   "codemirror_mode": {
    "name": "ipython",
    "version": 3
   },
   "file_extension": ".py",
   "mimetype": "text/x-python",
   "name": "python",
   "nbconvert_exporter": "python",
   "pygments_lexer": "ipython3",
   "version": "3.7.4"
  }
 },
 "nbformat": 4,
 "nbformat_minor": 2
}
