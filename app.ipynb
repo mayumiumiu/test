{
 "cells": [
  {
   "cell_type": "code",
   "execution_count": 60,
   "metadata": {},
   "outputs": [],
   "source": [
    "data = {\n",
    "    '研究目的': [\n",
    "        'Commercial batch\\n商业化批次', \n",
    "        'Tris HCl change\\n盐酸三羟甲基氨基甲烷变更', \n",
    "        'DS Suite 2 Line 2 PV batches\\n新增原液车间2原液2号生产线PV批次',\n",
    "        'Sodium acetate trihydrate & L-glutamic acid supplier change\\n醋酸钠三水合物和谷氨酰胺变更',\n",
    "        'WCB5 Cell Bank validation\\n新细胞库WCB5 验证批',\n",
    "        'DS Suite 2 Line 1 PV batches\\n新增原液车间2原液1号生产线PV批次',\n",
    "        'Commercial batch\\n商业化批次',\n",
    "        'DS Suite 2 Line 2 PV batches\\n新增原液车间2原液2号生产线PV批次',\n",
    "        'On-going stability study of 2022\\n2022年持续稳定性研究',\n",
    "        'Schott vial PV batch\\n肖特西林瓶变更PV批次',\n",
    "        'DP filling batch size enlarge\\nDP扩批',\n",
    "        'DS Suite 2 Line 1 PV batches\\n新增原液车间2原液1号生产线PV批次',\n",
    "        \n",
    "    ],\n",
    "    'Batch No.\\n批号': [\n",
    "        '1000002164,1000002165,1000002169',\n",
    "        '1000004187', \n",
    "        '1000004606,1000004607,1000004608,1000004609,1000004611,1000007683',\n",
    "        '1000009585',\n",
    "        '1000010490',\n",
    "        '1000013150,1000013152,1000013154,1000013156,1000013158,1000013160',\n",
    "        '1000002930,1000002931,1000002932',\n",
    "        '1000006705,1000006706,1000006707,1000006708',\n",
    "        'G202201001',\n",
    "        '1000007310,1000007311,1000007312',\n",
    "        '1000010494,1000010495,1000010496',\n",
    "        '1000014839,1000014840,1000014841,1000014842'\n",
    "        \n",
    "        \n",
    "    ],\n",
    "    'type': [\n",
    "        'BDS stability study\\n原液稳定性研究目的', \n",
    "        'BDS stability study\\n原液稳定性研究目的', \n",
    "        'BDS stability study\\n原液稳定性研究目的',\n",
    "        'BDS stability study\\n原液稳定性研究目的',\n",
    "        'BDS stability study\\n原液稳定性研究目的',\n",
    "        'BDS stability study\\n原液稳定性研究目的',\n",
    "        'DP stability study\\n成品稳定性研究目的',\n",
    "        'DP stability study\\n成品稳定性研究目的',\n",
    "        'DP stability study\\n成品稳定性研究目的',\n",
    "        'DP stability study\\n成品稳定性研究目的',\n",
    "        'DP stability study\\n成品稳定性研究目的',\n",
    "        'DP stability study\\n成品稳定性研究目的',\n",
    "        # ... more items\n",
    "    ]\n",
    "}\n",
    "df = pd.DataFrame(data)"
   ]
  },
  {
   "cell_type": "code",
   "execution_count": 81,
   "metadata": {
    "scrolled": false
   },
   "outputs": [
    {
     "data": {
      "application/vnd.jupyter.widget-view+json": {
       "model_id": "81cabd20aa184614848ff765f508fb09",
       "version_major": 2,
       "version_minor": 0
      },
      "text/plain": [
       "VBox(children=(Label(value='Upload Excel file:'), FileUpload(value={}, accept='.xlsx', description='Upload')))"
      ]
     },
     "metadata": {},
     "output_type": "display_data"
    },
    {
     "data": {
      "application/vnd.jupyter.widget-view+json": {
       "model_id": "4a74540a286c4a809c7a898241b35e39",
       "version_major": 2,
       "version_minor": 0
      },
      "text/plain": [
       "HBox(children=(Button(description='Add Row', style=ButtonStyle()), Button(description='Delete Row', style=Butt…"
      ]
     },
     "metadata": {},
     "output_type": "display_data"
    },
    {
     "data": {
      "application/vnd.jupyter.widget-view+json": {
       "model_id": "95e5bdb0348d44aeb3bbf23362b55b63",
       "version_major": 2,
       "version_minor": 0
      },
      "text/plain": [
       "Output()"
      ]
     },
     "metadata": {},
     "output_type": "display_data"
    }
   ],
   "source": [
    "import io\n",
    "import pandas as pd\n",
    "from docx import Document\n",
    "import ipywidgets as widgets\n",
    "from IPython.display import display, clear_output\n",
    "\n",
    "\n",
    "# Upload widget for Excel files\n",
    "uploader = widgets.FileUpload(accept='.xlsx', multiple=False)\n",
    "\n",
    "# Function to capture changes from widgets directly into the DataFrame\n",
    "def on_text_change(change, row, col):\n",
    "    df.at[row, col] = change.new\n",
    "\n",
    "def create_interactive_table(df):\n",
    "    output = widgets.Output()\n",
    "    \n",
    "    def redraw_table():\n",
    "        with output:\n",
    "            clear_output(wait=True)\n",
    "            for i in df.index:\n",
    "                for col in df.columns:\n",
    "                    text_widget = widgets.Text(value=str(df.at[i, col]), description=col)\n",
    "                    text_widget.observe(lambda change, row=i, col=col: on_text_change(change, row, col), names='value')\n",
    "                    display(text_widget)\n",
    "    \n",
    "    def add_row(b):\n",
    "        df.loc[len(df)] = ['' for _ in range(len(df.columns))]\n",
    "        redraw_table()\n",
    "    \n",
    "    def delete_row(b):\n",
    "        if len(df) > 0:\n",
    "            df.drop(df.tail(1).index, inplace=True)\n",
    "            redraw_table()\n",
    "\n",
    "    def generate_report(b):\n",
    "        global df\n",
    "        doc = Document()\n",
    "        \n",
    "        # Handle the uploaded Excel file\n",
    "        if uploader.value:\n",
    "            uploaded_filename = next(iter(uploader.value))\n",
    "            uploaded_content = uploader.value[uploaded_filename]['content']\n",
    "            uploaded_df = pd.read_excel(io.BytesIO(uploaded_content))\n",
    "            if not uploaded_df.empty:\n",
    "                doc.add_paragraph(\"Uploaded Excel Data:\")\n",
    "                table = doc.add_table(rows=1, cols=len(uploaded_df.columns))\n",
    "                for i, column in enumerate(uploaded_df.columns):\n",
    "                    table.cell(0, i).text = str(column)\n",
    "                for i, row in uploaded_df.iterrows():\n",
    "                    row_cells = table.add_row().cells\n",
    "                    for j, cell in enumerate(row):\n",
    "                        row_cells[j].text = str(cell)\n",
    "                doc.add_paragraph(\"\")  # Add a space between tables\n",
    "        \n",
    "        # Add interactive table data to the Word document\n",
    "        if not df.empty:\n",
    "            doc.add_paragraph(\"Interactive Table Data:\")\n",
    "            table = doc.add_table(rows=1, cols=len(df.columns))\n",
    "            for i, column in enumerate(df.columns):\n",
    "                table.cell(0, i).text = str(column)\n",
    "            for i, row in df.iterrows():\n",
    "                row_cells = table.add_row().cells\n",
    "                for j, cell in enumerate(row):\n",
    "                    row_cells[j].text = str(cell)\n",
    "        \n",
    "        doc.save('report.docx')\n",
    "        print(\"Report generated successfully.\")\n",
    "    \n",
    "    add_row_button = widgets.Button(description=\"Add Row\")\n",
    "    add_row_button.on_click(add_row)\n",
    "    delete_row_button = widgets.Button(description=\"Delete Row\")\n",
    "    delete_row_button.on_click(delete_row)\n",
    "    save_button = widgets.Button(description=\"Save\")\n",
    "    save_button.on_click(generate_report)  # Assuming you meant to save the report here\n",
    "    generate_report_button = widgets.Button(description=\"Generate Report\")\n",
    "    generate_report_button.on_click(generate_report)\n",
    "    \n",
    "    uploader_box = widgets.VBox([widgets.Label('Upload Excel file:'), uploader])\n",
    "    buttons_box = widgets.HBox([add_row_button, delete_row_button, save_button, generate_report_button])\n",
    "    \n",
    "    display(uploader_box, buttons_box, output)\n",
    "    redraw_table()\n",
    "\n",
    "create_interactive_table(df)\n"
   ]
  },
  {
   "cell_type": "code",
   "execution_count": null,
   "metadata": {},
   "outputs": [],
   "source": []
  }
 ],
 "metadata": {
  "kernelspec": {
   "display_name": "Python 3",
   "language": "python",
   "name": "python3"
  },
  "language_info": {
   "codemirror_mode": {
    "name": "ipython",
    "version": 3
   },
   "file_extension": ".py",
   "mimetype": "text/x-python",
   "name": "python",
   "nbconvert_exporter": "python",
   "pygments_lexer": "ipython3",
   "version": "3.7.4"
  }
 },
 "nbformat": 4,
 "nbformat_minor": 2
}
